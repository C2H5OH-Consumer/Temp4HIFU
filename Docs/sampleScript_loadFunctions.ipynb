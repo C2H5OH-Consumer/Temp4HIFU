{
 "cells": [
  {
   "cell_type": "markdown",
   "metadata": {},
   "source": [
    "Sample Script: Use of Functions\n",
    "\n",
    "A demonstration of how the functions can be used and connected. "
   ]
  },
  {
   "cell_type": "code",
   "execution_count": null,
   "metadata": {},
   "outputs": [],
   "source": [
    "%pip install numpy pandas dash temp4hifu"
   ]
  },
  {
   "cell_type": "code",
   "execution_count": null,
   "metadata": {},
   "outputs": [],
   "source": [
    "from temp4hifu import setParam, calculateRayleighIntegral, calculateBioheat\n",
    "\n",
    "example_trans = dict(freq=1*1e6, radius=0.02, focus=0.05, initPressure=1*1e6)\n",
    "example_field = dict(numAxialStep = 100, numRadialStep = 100)\n",
    "example_heat = dict(numTime = 5e-3, HeatTime = int(30), CoolTime = int(30), DutyCycle = int(100))\n",
    "example_observeZ = 0.05\n",
    "example_observeR = 0\n",
    "\n",
    "# setParam.setMedium()\n",
    "example_medium = setParam.setMedium('Water',0,0,0,0,0) \n",
    "\n",
    "# calculateRayleighIntegral.generateField()\n",
    "df_pressure2D_out, z_axis_out, r_axis_out = calculateRayleighIntegral.generateField(example_trans,example_medium,example_field)\n",
    "\n",
    "# calculateBioheat.generateVector()\n",
    "time_axis, temp_vec, Q, iscomplete = calculateBioheat.generateVector(example_observeZ,example_observeR,example_trans,example_medium,example_heat,df_pressure2D_out,z_axis_out,r_axis_out)"
   ]
  }
 ],
 "metadata": {
  "kernelspec": {
   "display_name": "Python 3",
   "language": "python",
   "name": "python3"
  },
  "language_info": {
   "codemirror_mode": {
    "name": "ipython",
    "version": 3
   },
   "file_extension": ".py",
   "mimetype": "text/x-python",
   "name": "python",
   "nbconvert_exporter": "python",
   "pygments_lexer": "ipython3",
   "version": "3.11.4"
  }
 },
 "nbformat": 4,
 "nbformat_minor": 2
}
