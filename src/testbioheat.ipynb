{
 "cells": [
  {
   "cell_type": "code",
   "execution_count": 92,
   "metadata": {},
   "outputs": [],
   "source": [
    "import settransducer\n",
    "from presets import setmedium\n",
    "import matplotlib.pyplot as plt\n",
    "import plotly.express as px\n",
    "import pandas as pd\n",
    "import numpy as np"
   ]
  },
  {
   "cell_type": "code",
   "execution_count": 93,
   "metadata": {},
   "outputs": [],
   "source": [
    "df_pressure2D = pd.read_csv(r\"C:\\Users\\geral\\OneDrive\\Documents\\GitHub\\TempCompliance4HIFU\\src\\matlab_data_1MHz_2cm_5cm.csv\")  # sample_data\n",
    "df_pressure2D = np.rot90(df_pressure2D)\n",
    "z_axis = np.linspace(0,0.01,100)\n",
    "r_axis = np.linspace(-0.02,0.02,101)\n",
    "\n",
    "pressure2D = df_pressure2D\n",
    "z_values = z_axis\n",
    "r_values = r_axis"
   ]
  },
  {
   "cell_type": "code",
   "execution_count": 94,
   "metadata": {},
   "outputs": [],
   "source": [
    "def calculateBioHeat(axial_location,radial_location,trans,medium,heat,pressure2D,z_values,r_values,iscomplete=0):\n",
    "    \"\"\"\n",
    "    INPUT ARG\n",
    "        trans == dictionary of transducer properties\n",
    "            \"freq\" = [Hz]\n",
    "            \"radius\" = [m]\n",
    "            \"focus\" = [m]\n",
    "            \"initPressure\" = [Pa]\n",
    "        medium == calls medium properties\n",
    "            \"speed\" = [m/s]\n",
    "            \"density\" = [kg/m^3]\n",
    "            \"absCoeff\" = [Np/(m*MHz^2)]\n",
    "        heat == calls heating parameters\n",
    "            \"HeatTime\"\n",
    "            \"CoolTime\"\n",
    "            \"DutyCycle\"\n",
    "        \n",
    "\n",
    "    OUTPUT ARG\n",
    "        pressure_field == resulting rayleigh integral pressure field\n",
    "\n",
    "\n",
    "    \"\"\"\n",
    "    \n",
    "\n",
    "    # Edit and Transform Transducer Properties\n",
    "    d = trans[\"focus\"]\n",
    "    k = 2 * np.pi * trans[\"freq\"] / medium[\"speed\"] # Wave Number\n",
    "    angularF = trans[\"radius\"]/trans[\"focus\"] # Angular Frequency\n",
    "    abs_Coeff = medium[\"absCoeff\"] * (pow((trans[\"freq\"]/(1e6)),2)) # POWER LAW\n",
    "    # impedance = medium[\"speed\"]/medium[\"density\"]\n",
    "    # gain = 2 * np.pi * trans[\"freq\"] * ((trans[\"radius\"])^2) / (2*trans[\"focus\"]*medium[\"speed\"])\n",
    "    dutyCycleRatio = heat[\"DutyCycle\"]/100\n",
    "\n",
    "    # Set Axes\n",
    "    axial_min = 0.001\n",
    "    axial_max = 2*d\n",
    "    radial_min = -trans[\"radius\"]\n",
    "    dz = (axial_max - axial_min) / (len(z_values)-1)\n",
    "    print(dz)\n",
    "    dr = -1 * radial_min / ((len(r_values)-1)/2)\n",
    "    print(dr)\n",
    "    temp_dist_times = [30]\n",
    "    dt = 1\n",
    "    time_axis = np.arange(0,(heat[\"HeatTime\"]+heat[\"CoolTime\"]+dt),dt)\n",
    "\n",
    "\n",
    "\n",
    "\n",
    "    # Bioheat\n",
    "    intensity2D = pow(pressure2D,2) * pow(trans[\"initPressure\"],2) * dutyCycleRatio / (2 * medium[\"density\"] * medium[\"speed\"])\n",
    "    Q = intensity2D * 2 * abs_Coeff / (medium[\"density\"] * medium[\"specHeatCap\"])\n",
    "\n",
    "    # Temperature Matrix\n",
    "    num_dist = 0\n",
    "    numR,numZ = np.shape(pressure2D)\n",
    "    temp_dist = np.zeros((numR,numZ))\n",
    "\n",
    "    r_center_idx = round(((0-radial_min)/dr)+1)\n",
    "    radial_temp_idx = round(((radial_location-radial_min)/dr)+1)\n",
    "    axial_temp_idx = round(((axial_location-axial_min)/dz)+1)\n",
    "    temp_vec = []\n",
    "    temp_vec.append(temp_dist[axial_temp_idx,radial_temp_idx])\n",
    "\n",
    "    heat_dist_indices = []\n",
    "    cool_dist_indices = []\n",
    "    for ii in range(1,len(temp_dist_times)):\n",
    "        time_value = temp_dist_times[ii]\n",
    "        if time_value >= 0 and time_value <= heat[\"HeatTime\"]:\n",
    "            heat_dist_indices = heat_dist_indices.append(round(time_value/dt))\n",
    "        elif time_value > heat[\"HeatTime\"]and time_value <= (heat[\"HeatTime\"] + heat[\"CoolTime\"]):\n",
    "            cool_dist_indices = cool_dist_indices.append(round((time_value - heat[\"HeatTime\"])/dt))\n",
    "    \n",
    "\n",
    "    # FTCS Scheme ADD FUNCTION FOR HEAT\n",
    "    term1 = ((dt * medium[\"thermDiff\"]) / pow(dr,2))\n",
    "    for time_step in np.arange(dt,heat[\"HeatTime\"],dt):\n",
    "        curr_temp_dist = temp_dist\n",
    "        for ii in range(1,numR-1):\n",
    "            for jj in range(1, numZ-1):\n",
    "                currTemp = curr_temp_dist[ii,jj]\n",
    "\n",
    "                term2z = (curr_temp_dist[ii+1,jj] - (2 * curr_temp_dist[ii,jj]) + curr_temp_dist[ii-1,jj])\n",
    "                term2r = (curr_temp_dist[ii,jj+1] - (2 * curr_temp_dist[ii,jj]) + curr_temp_dist[ii,jj-1])\n",
    "                term3r = (1/r_values[jj]) * (curr_temp_dist[ii,jj+1] - curr_temp_dist[ii,jj-1]) * ((dt * medium[\"thermDiff\"]) / (2*dr))\n",
    "                \n",
    "                z_component = term1 * term2z\n",
    "                r_component = term1 * term2r * term3r\n",
    "\n",
    "                if jj == r_center_idx:\n",
    "                    r_component = 4*term1*(curr_temp_dist[ii,jj+1] - curr_temp_dist[ii,jj])\n",
    "\n",
    "                Q_US = dt * Q[ii,jj]\n",
    "                temp_dist[ii,jj] = currTemp + z_component + r_component + Q_US\n",
    "        temp_vec.append(temp_dist[axial_temp_idx,radial_temp_idx])\n",
    "            \n",
    "\n",
    "    # FTCS Scheme ADD FUNCTION FOR COOL\n",
    "    for time_step in np.arange(dt,heat[\"CoolTime\"],dt):\n",
    "        curr_temp_dist = temp_dist\n",
    "        for ii in range(1,numR-2):\n",
    "            for jj in range(1, numZ-2):\n",
    "                currTemp = curr_temp_dist[ii,jj]\n",
    "\n",
    "                z_component = ((dt * medium[\"thermDiff\"]) / pow(dr,2)) \\\n",
    "                * (curr_temp_dist[ii+1,jj] - (2 * curr_temp_dist[ii,jj]) + curr_temp_dist[ii-1,jj]) \n",
    "\n",
    "                r_component = ((dt * medium[\"thermDiff\"]) / pow(dr,2)) \\\n",
    "                * (curr_temp_dist[ii,jj+1] - (2 * curr_temp_dist[ii,jj]) + curr_temp_dist[ii,jj-1]) \\\n",
    "                + (1/r_values[jj]) * (curr_temp_dist[ii,jj+1] - curr_temp_dist[ii,jj-1]) \\\n",
    "                * (dt * medium[\"thermDiff\"] / (2*dr))\n",
    "\n",
    "                if jj == r_center_idx:\n",
    "                    r_component = 4*((dt * medium[\"thermDiff\"]) / pow(dr,2)) \\\n",
    "                    * (curr_temp_dist[ii,jj+1] - curr_temp_dist[ii,jj])\n",
    "\n",
    "                temp_dist[ii,jj] = currTemp + z_component + r_component\n",
    "        temp_vec.append(temp_dist[axial_temp_idx,radial_temp_idx])\n",
    "\n",
    "\n",
    "\n",
    "\n",
    "    print(\"Bioheat Calculation Complete\")\n",
    "    iscomplete = 1\n",
    "    return time_axis, temp_vec, iscomplete, Q\n"
   ]
  },
  {
   "cell_type": "code",
   "execution_count": 95,
   "metadata": {},
   "outputs": [
    {
     "name": "stdout",
     "output_type": "stream",
     "text": [
      "1.0 %\n",
      "2.0 %\n",
      "3.0 %\n",
      "4.0 %\n",
      "5.0 %\n",
      "6.0 %\n",
      "7.0 %\n",
      "8.0 %\n",
      "9.0 %\n",
      "10.0 %\n",
      "11.0 %\n",
      "12.0 %\n",
      "13.0 %\n",
      "14.0 %\n",
      "15.0 %\n",
      "16.0 %\n",
      "17.0 %\n",
      "18.0 %\n",
      "19.0 %\n",
      "20.0 %\n",
      "21.0 %\n",
      "22.0 %\n",
      "23.0 %\n",
      "24.0 %\n",
      "25.0 %\n",
      "26.0 %\n",
      "27.0 %\n",
      "28.0 %\n",
      "29.0 %\n",
      "30.0 %\n",
      "31.0 %\n",
      "32.0 %\n",
      "33.0 %\n",
      "34.0 %\n",
      "35.0 %\n",
      "36.0 %\n",
      "37.0 %\n",
      "38.0 %\n",
      "39.0 %\n",
      "40.0 %\n",
      "41.0 %\n",
      "42.0 %\n",
      "43.0 %\n",
      "44.0 %\n",
      "45.0 %\n",
      "46.0 %\n",
      "47.0 %\n",
      "48.0 %\n",
      "49.0 %\n",
      "50.0 %\n",
      "50.0 %\n",
      "51.0 %\n",
      "52.0 %\n",
      "53.0 %\n",
      "54.0 %\n",
      "55.0 %\n",
      "56.0 %\n",
      "57.0 %\n",
      "58.0 %\n",
      "59.0 %\n",
      "60.0 %\n",
      "61.0 %\n",
      "62.0 %\n",
      "63.0 %\n",
      "64.0 %\n",
      "65.0 %\n",
      "66.0 %\n",
      "67.0 %\n",
      "68.0 %\n",
      "69.0 %\n",
      "70.0 %\n",
      "71.0 %\n",
      "72.0 %\n",
      "73.0 %\n",
      "74.0 %\n",
      "75.0 %\n",
      "76.0 %\n",
      "77.0 %\n",
      "78.0 %\n",
      "79.0 %\n",
      "80.0 %\n",
      "81.0 %\n",
      "82.0 %\n",
      "83.0 %\n",
      "84.0 %\n",
      "85.0 %\n",
      "86.0 %\n",
      "87.0 %\n",
      "88.0 %\n",
      "89.0 %\n",
      "90.0 %\n",
      "91.0 %\n",
      "92.0 %\n",
      "93.0 %\n",
      "94.0 %\n",
      "95.0 %\n",
      "96.0 %\n",
      "97.0 %\n",
      "98.0 %\n",
      "99.0 %\n",
      "Rayleigh Integral Complete\n"
     ]
    }
   ],
   "source": [
    "import calculateRayleighIntegral\n",
    "\n",
    "trans = settransducer.setTransducer(1e6,0.02,0.05,1) # freq, radius, focus, init pressure\n",
    "medium = setmedium.setMedium('Water', dict())\n",
    "field = dict(numAxialStep = 100, numRadialStep = 100)\n",
    "\n",
    "# Rayleigh Integral\n",
    "df_pressure2D, z_axis, r_axis, iscomplete = calculateRayleighIntegral.generateField(trans,medium,field)"
   ]
  },
  {
   "cell_type": "code",
   "execution_count": 103,
   "metadata": {},
   "outputs": [
    {
     "name": "stdout",
     "output_type": "stream",
     "text": [
      "[[0.         0.         0.         ... 0.         0.         0.        ]\n",
      " [0.         0.65829078 0.46899967 ... 0.48885699 0.4896785  0.49023066]\n",
      " [0.         0.76288511 0.60846114 ... 0.48266104 0.48416033 0.48764391]\n",
      " ...\n",
      " [0.         0.76288511 0.60846114 ... 0.48266104 0.48416033 0.48764391]\n",
      " [0.         0.65829078 0.46899967 ... 0.48885699 0.4896785  0.49023066]\n",
      " [0.         0.         0.         ... 0.         0.         0.        ]]\n"
     ]
    },
    {
     "data": {
      "text/plain": [
       "102"
      ]
     },
     "execution_count": 103,
     "metadata": {},
     "output_type": "execute_result"
    }
   ],
   "source": [
    "print(df_pressure2D)\n",
    "len(df_pressure2D)\n"
   ]
  },
  {
   "cell_type": "code",
   "execution_count": 97,
   "metadata": {},
   "outputs": [
    {
     "ename": "ValueError",
     "evalue": "The length of the y vector must match the length of the first dimension of the img matrix.",
     "output_type": "error",
     "traceback": [
      "\u001b[1;31m---------------------------------------------------------------------------\u001b[0m",
      "\u001b[1;31mValueError\u001b[0m                                Traceback (most recent call last)",
      "Cell \u001b[1;32mIn[97], line 1\u001b[0m\n\u001b[1;32m----> 1\u001b[0m fig \u001b[38;5;241m=\u001b[39m \u001b[43mpx\u001b[49m\u001b[38;5;241;43m.\u001b[39;49m\u001b[43mimshow\u001b[49m\u001b[43m(\u001b[49m\n\u001b[0;32m      2\u001b[0m \u001b[43m    \u001b[49m\u001b[43mdf_pressure2D\u001b[49m\u001b[43m,\u001b[49m\n\u001b[0;32m      3\u001b[0m \u001b[43m    \u001b[49m\u001b[43mx\u001b[49m\u001b[43m \u001b[49m\u001b[38;5;241;43m=\u001b[39;49m\u001b[43m \u001b[49m\u001b[43mz_axis\u001b[49m\u001b[43m,\u001b[49m\n\u001b[0;32m      4\u001b[0m \u001b[43m    \u001b[49m\u001b[43my\u001b[49m\u001b[43m \u001b[49m\u001b[38;5;241;43m=\u001b[39;49m\u001b[43m \u001b[49m\u001b[43mr_axis\u001b[49m\u001b[43m,\u001b[49m\n\u001b[0;32m      5\u001b[0m \u001b[43m    \u001b[49m\u001b[43maspect\u001b[49m\u001b[38;5;241;43m=\u001b[39;49m\u001b[38;5;124;43m'\u001b[39;49m\u001b[38;5;124;43mauto\u001b[39;49m\u001b[38;5;124;43m'\u001b[39;49m\u001b[43m,\u001b[49m\n\u001b[0;32m      6\u001b[0m \u001b[43m    \u001b[49m\u001b[43mcolor_continuous_scale\u001b[49m\u001b[38;5;241;43m=\u001b[39;49m\u001b[38;5;124;43m'\u001b[39;49m\u001b[38;5;124;43mjet\u001b[39;49m\u001b[38;5;124;43m'\u001b[39;49m\u001b[43m,\u001b[49m\u001b[43m \u001b[49m\n\u001b[0;32m      7\u001b[0m \u001b[43m)\u001b[49m\n\u001b[0;32m      8\u001b[0m fig\u001b[38;5;241m.\u001b[39mshow()\n",
      "File \u001b[1;32mc:\\Users\\geral\\AppData\\Local\\Programs\\Python\\Python311\\Lib\\site-packages\\plotly\\express\\_imshow.py:387\u001b[0m, in \u001b[0;36mimshow\u001b[1;34m(img, zmin, zmax, origin, labels, x, y, animation_frame, facet_col, facet_col_wrap, facet_col_spacing, facet_row_spacing, color_continuous_scale, color_continuous_midpoint, range_color, title, template, width, height, aspect, contrast_rescaling, binary_string, binary_backend, binary_compression_level, binary_format, text_auto)\u001b[0m\n\u001b[0;32m    385\u001b[0m y_index \u001b[38;5;241m=\u001b[39m slice_dimensions\n\u001b[0;32m    386\u001b[0m \u001b[38;5;28;01mif\u001b[39;00m y \u001b[38;5;129;01mis\u001b[39;00m \u001b[38;5;129;01mnot\u001b[39;00m \u001b[38;5;28;01mNone\u001b[39;00m \u001b[38;5;129;01mand\u001b[39;00m img\u001b[38;5;241m.\u001b[39mshape[y_index] \u001b[38;5;241m!=\u001b[39m \u001b[38;5;28mlen\u001b[39m(y):\n\u001b[1;32m--> 387\u001b[0m     \u001b[38;5;28;01mraise\u001b[39;00m \u001b[38;5;167;01mValueError\u001b[39;00m(\n\u001b[0;32m    388\u001b[0m         \u001b[38;5;124m\"\u001b[39m\u001b[38;5;124mThe length of the y vector must match the length of the first \u001b[39m\u001b[38;5;124m\"\u001b[39m\n\u001b[0;32m    389\u001b[0m         \u001b[38;5;241m+\u001b[39m \u001b[38;5;124m\"\u001b[39m\u001b[38;5;124mdimension of the img matrix.\u001b[39m\u001b[38;5;124m\"\u001b[39m\n\u001b[0;32m    390\u001b[0m     )\n\u001b[0;32m    391\u001b[0m x_index \u001b[38;5;241m=\u001b[39m slice_dimensions \u001b[38;5;241m+\u001b[39m \u001b[38;5;241m1\u001b[39m\n\u001b[0;32m    392\u001b[0m \u001b[38;5;28;01mif\u001b[39;00m x \u001b[38;5;129;01mis\u001b[39;00m \u001b[38;5;129;01mnot\u001b[39;00m \u001b[38;5;28;01mNone\u001b[39;00m \u001b[38;5;129;01mand\u001b[39;00m img\u001b[38;5;241m.\u001b[39mshape[x_index] \u001b[38;5;241m!=\u001b[39m \u001b[38;5;28mlen\u001b[39m(x):\n",
      "\u001b[1;31mValueError\u001b[0m: The length of the y vector must match the length of the first dimension of the img matrix."
     ]
    }
   ],
   "source": [
    "fig = px.imshow(\n",
    "    df_pressure2D,\n",
    "    x = z_axis,\n",
    "    y = r_axis,\n",
    "    aspect='auto',\n",
    "    color_continuous_scale='jet', \n",
    ")\n",
    "fig.show()"
   ]
  },
  {
   "cell_type": "code",
   "execution_count": 96,
   "metadata": {},
   "outputs": [
    {
     "name": "stdout",
     "output_type": "stream",
     "text": [
      "0.00099\n",
      "0.0004\n"
     ]
    },
    {
     "name": "stderr",
     "output_type": "stream",
     "text": [
      "C:\\Users\\geral\\AppData\\Local\\Temp\\ipykernel_18596\\4038337937.py:94: DeprecationWarning:\n",
      "\n",
      "Conversion of an array with ndim > 0 to a scalar is deprecated, and will error in future. Ensure you extract a single element from your array before performing this operation. (Deprecated NumPy 1.25.)\n",
      "\n",
      "C:\\Users\\geral\\AppData\\Local\\Temp\\ipykernel_18596\\4038337937.py:88: RuntimeWarning:\n",
      "\n",
      "overflow encountered in multiply\n",
      "\n",
      "C:\\Users\\geral\\AppData\\Local\\Temp\\ipykernel_18596\\4038337937.py:85: RuntimeWarning:\n",
      "\n",
      "overflow encountered in multiply\n",
      "\n",
      "C:\\Users\\geral\\AppData\\Local\\Temp\\ipykernel_18596\\4038337937.py:83: RuntimeWarning:\n",
      "\n",
      "invalid value encountered in scalar subtract\n",
      "\n",
      "C:\\Users\\geral\\AppData\\Local\\Temp\\ipykernel_18596\\4038337937.py:84: RuntimeWarning:\n",
      "\n",
      "invalid value encountered in scalar add\n",
      "\n",
      "C:\\Users\\geral\\AppData\\Local\\Temp\\ipykernel_18596\\4038337937.py:85: RuntimeWarning:\n",
      "\n",
      "invalid value encountered in scalar subtract\n",
      "\n",
      "C:\\Users\\geral\\AppData\\Local\\Temp\\ipykernel_18596\\4038337937.py:84: RuntimeWarning:\n",
      "\n",
      "invalid value encountered in scalar subtract\n",
      "\n",
      "C:\\Users\\geral\\AppData\\Local\\Temp\\ipykernel_18596\\4038337937.py:94: RuntimeWarning:\n",
      "\n",
      "invalid value encountered in add\n",
      "\n",
      "C:\\Users\\geral\\AppData\\Local\\Temp\\ipykernel_18596\\4038337937.py:83: RuntimeWarning:\n",
      "\n",
      "overflow encountered in scalar multiply\n",
      "\n",
      "C:\\Users\\geral\\AppData\\Local\\Temp\\ipykernel_18596\\4038337937.py:84: RuntimeWarning:\n",
      "\n",
      "overflow encountered in scalar multiply\n",
      "\n",
      "C:\\Users\\geral\\AppData\\Local\\Temp\\ipykernel_18596\\4038337937.py:91: RuntimeWarning:\n",
      "\n",
      "overflow encountered in scalar multiply\n",
      "\n",
      "C:\\Users\\geral\\AppData\\Local\\Temp\\ipykernel_18596\\4038337937.py:117: DeprecationWarning:\n",
      "\n",
      "Conversion of an array with ndim > 0 to a scalar is deprecated, and will error in future. Ensure you extract a single element from your array before performing this operation. (Deprecated NumPy 1.25.)\n",
      "\n",
      "C:\\Users\\geral\\AppData\\Local\\Temp\\ipykernel_18596\\4038337937.py:108: RuntimeWarning:\n",
      "\n",
      "invalid value encountered in add\n",
      "\n",
      "C:\\Users\\geral\\AppData\\Local\\Temp\\ipykernel_18596\\4038337937.py:106: RuntimeWarning:\n",
      "\n",
      "invalid value encountered in scalar subtract\n",
      "\n",
      "C:\\Users\\geral\\AppData\\Local\\Temp\\ipykernel_18596\\4038337937.py:109: RuntimeWarning:\n",
      "\n",
      "invalid value encountered in scalar subtract\n",
      "\n",
      "C:\\Users\\geral\\AppData\\Local\\Temp\\ipykernel_18596\\4038337937.py:110: RuntimeWarning:\n",
      "\n",
      "invalid value encountered in scalar subtract\n",
      "\n",
      "C:\\Users\\geral\\AppData\\Local\\Temp\\ipykernel_18596\\4038337937.py:109: RuntimeWarning:\n",
      "\n",
      "invalid value encountered in scalar add\n",
      "\n",
      "C:\\Users\\geral\\AppData\\Local\\Temp\\ipykernel_18596\\4038337937.py:117: RuntimeWarning:\n",
      "\n",
      "invalid value encountered in add\n",
      "\n"
     ]
    },
    {
     "ename": "KeyboardInterrupt",
     "evalue": "",
     "output_type": "error",
     "traceback": [
      "\u001b[1;31m---------------------------------------------------------------------------\u001b[0m",
      "\u001b[1;31mKeyboardInterrupt\u001b[0m                         Traceback (most recent call last)",
      "Cell \u001b[1;32mIn[96], line 5\u001b[0m\n\u001b[0;32m      2\u001b[0m axial_location \u001b[38;5;241m=\u001b[39m \u001b[38;5;241m0.07\u001b[39m \u001b[38;5;66;03m# [m]\u001b[39;00m\n\u001b[0;32m      3\u001b[0m radial_location \u001b[38;5;241m=\u001b[39m \u001b[38;5;241m0\u001b[39m\n\u001b[1;32m----> 5\u001b[0m time_axis, temp_vec, iscomplete, Q \u001b[38;5;241m=\u001b[39m \u001b[43mcalculateBioHeat\u001b[49m\u001b[43m(\u001b[49m\u001b[43maxial_location\u001b[49m\u001b[43m,\u001b[49m\u001b[43mradial_location\u001b[49m\u001b[43m,\u001b[49m\u001b[43mtrans\u001b[49m\u001b[43m,\u001b[49m\u001b[43mmedium\u001b[49m\u001b[43m,\u001b[49m\u001b[43mheat\u001b[49m\u001b[43m,\u001b[49m\u001b[43mdf_pressure2D\u001b[49m\u001b[43m,\u001b[49m\u001b[43mz_axis\u001b[49m\u001b[43m,\u001b[49m\u001b[43mr_axis\u001b[49m\u001b[43m,\u001b[49m\u001b[43miscomplete\u001b[49m\u001b[38;5;241;43m=\u001b[39;49m\u001b[38;5;241;43m0\u001b[39;49m\u001b[43m)\u001b[49m\n",
      "Cell \u001b[1;32mIn[94], line 105\u001b[0m, in \u001b[0;36mcalculateBioHeat\u001b[1;34m(axial_location, radial_location, trans, medium, heat, pressure2D, z_values, r_values, iscomplete)\u001b[0m\n\u001b[0;32m    102\u001b[0m \u001b[38;5;28;01mfor\u001b[39;00m jj \u001b[38;5;129;01min\u001b[39;00m \u001b[38;5;28mrange\u001b[39m(\u001b[38;5;241m1\u001b[39m, numZ\u001b[38;5;241m-\u001b[39m\u001b[38;5;241m2\u001b[39m):\n\u001b[0;32m    103\u001b[0m     currTemp \u001b[38;5;241m=\u001b[39m curr_temp_dist[ii,jj]\n\u001b[1;32m--> 105\u001b[0m     z_component \u001b[38;5;241m=\u001b[39m ((dt \u001b[38;5;241m*\u001b[39m medium[\u001b[38;5;124m\"\u001b[39m\u001b[38;5;124mthermDiff\u001b[39m\u001b[38;5;124m\"\u001b[39m]) \u001b[38;5;241m/\u001b[39m \u001b[38;5;28mpow\u001b[39m(dr,\u001b[38;5;241m2\u001b[39m)) \\\n\u001b[0;32m    106\u001b[0m     \u001b[38;5;241m*\u001b[39m (curr_temp_dist[ii\u001b[38;5;241m+\u001b[39m\u001b[38;5;241m1\u001b[39m,jj] \u001b[38;5;241m-\u001b[39m (\u001b[38;5;241m2\u001b[39m \u001b[38;5;241m*\u001b[39m curr_temp_dist[ii,jj]) \u001b[38;5;241m+\u001b[39m curr_temp_dist[ii\u001b[38;5;241m-\u001b[39m\u001b[38;5;241m1\u001b[39m,jj]) \n\u001b[0;32m    108\u001b[0m     r_component \u001b[38;5;241m=\u001b[39m ((dt \u001b[38;5;241m*\u001b[39m medium[\u001b[38;5;124m\"\u001b[39m\u001b[38;5;124mthermDiff\u001b[39m\u001b[38;5;124m\"\u001b[39m]) \u001b[38;5;241m/\u001b[39m \u001b[38;5;28mpow\u001b[39m(dr,\u001b[38;5;241m2\u001b[39m)) \\\n\u001b[0;32m    109\u001b[0m     \u001b[38;5;241m*\u001b[39m (curr_temp_dist[ii,jj\u001b[38;5;241m+\u001b[39m\u001b[38;5;241m1\u001b[39m] \u001b[38;5;241m-\u001b[39m (\u001b[38;5;241m2\u001b[39m \u001b[38;5;241m*\u001b[39m curr_temp_dist[ii,jj]) \u001b[38;5;241m+\u001b[39m curr_temp_dist[ii,jj\u001b[38;5;241m-\u001b[39m\u001b[38;5;241m1\u001b[39m]) \\\n\u001b[0;32m    110\u001b[0m     \u001b[38;5;241m+\u001b[39m (\u001b[38;5;241m1\u001b[39m\u001b[38;5;241m/\u001b[39mr_values[jj]) \u001b[38;5;241m*\u001b[39m (curr_temp_dist[ii,jj\u001b[38;5;241m+\u001b[39m\u001b[38;5;241m1\u001b[39m] \u001b[38;5;241m-\u001b[39m curr_temp_dist[ii,jj\u001b[38;5;241m-\u001b[39m\u001b[38;5;241m1\u001b[39m]) \\\n\u001b[0;32m    111\u001b[0m     \u001b[38;5;241m*\u001b[39m (dt \u001b[38;5;241m*\u001b[39m medium[\u001b[38;5;124m\"\u001b[39m\u001b[38;5;124mthermDiff\u001b[39m\u001b[38;5;124m\"\u001b[39m] \u001b[38;5;241m/\u001b[39m (\u001b[38;5;241m2\u001b[39m\u001b[38;5;241m*\u001b[39mdr))\n\u001b[0;32m    113\u001b[0m     \u001b[38;5;28;01mif\u001b[39;00m jj \u001b[38;5;241m==\u001b[39m r_center_idx:\n",
      "\u001b[1;31mKeyboardInterrupt\u001b[0m: "
     ]
    }
   ],
   "source": [
    "heat = dict(HeatTime = float(30), CoolTime= float(30), DutyCycle = int(100))\n",
    "axial_location = 0.07 # [m]\n",
    "radial_location = 0\n",
    "\n",
    "time_axis, temp_vec, iscomplete, Q = calculateBioHeat(axial_location,radial_location,trans,medium,heat,df_pressure2D,z_axis,r_axis,iscomplete=0)\n"
   ]
  },
  {
   "cell_type": "code",
   "execution_count": null,
   "metadata": {},
   "outputs": [
    {
     "name": "stdout",
     "output_type": "stream",
     "text": [
      "[0.0, 9.09566773993451e-13, -1.8424063311917534e-12, 1.404165544210902e-10, -3.5743023822290034e-09, 7.000025785210759e-08, -1.094795227557579e-06, 1.408785090599183e-05, -0.00014960083757051875, 0.0012558241466676613, -0.006575201703833003, -0.029123833850697237, 1.503357622172835, -64.5560103277043, -22726.150697048564, 2385857963960.671, 6.1688427680253004e+44, 6.9862484257366574e+174, inf, nan, nan, nan, nan, nan, nan, nan, nan, nan, nan, nan, nan, nan, nan, nan, nan, nan, nan, nan, nan, nan, nan, nan, nan, nan, nan, nan, nan, nan, nan, nan, nan, nan, nan, nan, nan, nan, nan, nan, nan]\n"
     ]
    }
   ],
   "source": [
    "print(temp_vec)"
   ]
  },
  {
   "cell_type": "code",
   "execution_count": null,
   "metadata": {},
   "outputs": [
    {
     "data": {
      "application/vnd.plotly.v1+json": {
       "config": {
        "plotlyServerURL": "https://plot.ly"
       },
       "data": [
        {
         "hovertemplate": "variable=0<br>index=%{x}<br>value=%{y}<extra></extra>",
         "legendgroup": "0",
         "line": {
          "color": "#636efa",
          "dash": "solid"
         },
         "marker": {
          "symbol": "circle"
         },
         "mode": "lines",
         "name": "0",
         "orientation": "v",
         "showlegend": true,
         "type": "scatter",
         "x": [
          0,
          1,
          2,
          3,
          4,
          5,
          6,
          7,
          8,
          9,
          10,
          11,
          12,
          13,
          14,
          15,
          16,
          17,
          18,
          19,
          20,
          21,
          22,
          23,
          24,
          25,
          26,
          27,
          28,
          29,
          30,
          31,
          32,
          33,
          34,
          35,
          36,
          37,
          38,
          39,
          40,
          41,
          42,
          43,
          44,
          45,
          46,
          47,
          48,
          49,
          50,
          51,
          52,
          53,
          54,
          55,
          56,
          57,
          58
         ],
         "xaxis": "x",
         "y": [
          0,
          9.09566773993451e-13,
          -1.8424063311917534e-12,
          1.404165544210902e-10,
          -3.5743023822290034e-9,
          7.000025785210759e-8,
          -0.000001094795227557579,
          0.00001408785090599183,
          -0.00014960083757051875,
          0.0012558241466676613,
          -0.006575201703833003,
          -0.029123833850697237,
          1.503357622172835,
          -64.5560103277043,
          -22726.150697048564,
          2385857963960.671,
          6.1688427680253004e+44,
          6.9862484257366574e+174,
          null,
          null,
          null,
          null,
          null,
          null,
          null,
          null,
          null,
          null,
          null,
          null,
          null,
          null,
          null,
          null,
          null,
          null,
          null,
          null,
          null,
          null,
          null,
          null,
          null,
          null,
          null,
          null,
          null,
          null,
          null,
          null,
          null,
          null,
          null,
          null,
          null,
          null,
          null,
          null,
          null
         ],
         "yaxis": "y"
        }
       ],
       "layout": {
        "legend": {
         "title": {
          "text": "variable"
         },
         "tracegroupgap": 0
        },
        "margin": {
         "t": 60
        },
        "template": {
         "data": {
          "bar": [
           {
            "error_x": {
             "color": "#2a3f5f"
            },
            "error_y": {
             "color": "#2a3f5f"
            },
            "marker": {
             "line": {
              "color": "#E5ECF6",
              "width": 0.5
             },
             "pattern": {
              "fillmode": "overlay",
              "size": 10,
              "solidity": 0.2
             }
            },
            "type": "bar"
           }
          ],
          "barpolar": [
           {
            "marker": {
             "line": {
              "color": "#E5ECF6",
              "width": 0.5
             },
             "pattern": {
              "fillmode": "overlay",
              "size": 10,
              "solidity": 0.2
             }
            },
            "type": "barpolar"
           }
          ],
          "carpet": [
           {
            "aaxis": {
             "endlinecolor": "#2a3f5f",
             "gridcolor": "white",
             "linecolor": "white",
             "minorgridcolor": "white",
             "startlinecolor": "#2a3f5f"
            },
            "baxis": {
             "endlinecolor": "#2a3f5f",
             "gridcolor": "white",
             "linecolor": "white",
             "minorgridcolor": "white",
             "startlinecolor": "#2a3f5f"
            },
            "type": "carpet"
           }
          ],
          "choropleth": [
           {
            "colorbar": {
             "outlinewidth": 0,
             "ticks": ""
            },
            "type": "choropleth"
           }
          ],
          "contour": [
           {
            "colorbar": {
             "outlinewidth": 0,
             "ticks": ""
            },
            "colorscale": [
             [
              0,
              "#0d0887"
             ],
             [
              0.1111111111111111,
              "#46039f"
             ],
             [
              0.2222222222222222,
              "#7201a8"
             ],
             [
              0.3333333333333333,
              "#9c179e"
             ],
             [
              0.4444444444444444,
              "#bd3786"
             ],
             [
              0.5555555555555556,
              "#d8576b"
             ],
             [
              0.6666666666666666,
              "#ed7953"
             ],
             [
              0.7777777777777778,
              "#fb9f3a"
             ],
             [
              0.8888888888888888,
              "#fdca26"
             ],
             [
              1,
              "#f0f921"
             ]
            ],
            "type": "contour"
           }
          ],
          "contourcarpet": [
           {
            "colorbar": {
             "outlinewidth": 0,
             "ticks": ""
            },
            "type": "contourcarpet"
           }
          ],
          "heatmap": [
           {
            "colorbar": {
             "outlinewidth": 0,
             "ticks": ""
            },
            "colorscale": [
             [
              0,
              "#0d0887"
             ],
             [
              0.1111111111111111,
              "#46039f"
             ],
             [
              0.2222222222222222,
              "#7201a8"
             ],
             [
              0.3333333333333333,
              "#9c179e"
             ],
             [
              0.4444444444444444,
              "#bd3786"
             ],
             [
              0.5555555555555556,
              "#d8576b"
             ],
             [
              0.6666666666666666,
              "#ed7953"
             ],
             [
              0.7777777777777778,
              "#fb9f3a"
             ],
             [
              0.8888888888888888,
              "#fdca26"
             ],
             [
              1,
              "#f0f921"
             ]
            ],
            "type": "heatmap"
           }
          ],
          "heatmapgl": [
           {
            "colorbar": {
             "outlinewidth": 0,
             "ticks": ""
            },
            "colorscale": [
             [
              0,
              "#0d0887"
             ],
             [
              0.1111111111111111,
              "#46039f"
             ],
             [
              0.2222222222222222,
              "#7201a8"
             ],
             [
              0.3333333333333333,
              "#9c179e"
             ],
             [
              0.4444444444444444,
              "#bd3786"
             ],
             [
              0.5555555555555556,
              "#d8576b"
             ],
             [
              0.6666666666666666,
              "#ed7953"
             ],
             [
              0.7777777777777778,
              "#fb9f3a"
             ],
             [
              0.8888888888888888,
              "#fdca26"
             ],
             [
              1,
              "#f0f921"
             ]
            ],
            "type": "heatmapgl"
           }
          ],
          "histogram": [
           {
            "marker": {
             "pattern": {
              "fillmode": "overlay",
              "size": 10,
              "solidity": 0.2
             }
            },
            "type": "histogram"
           }
          ],
          "histogram2d": [
           {
            "colorbar": {
             "outlinewidth": 0,
             "ticks": ""
            },
            "colorscale": [
             [
              0,
              "#0d0887"
             ],
             [
              0.1111111111111111,
              "#46039f"
             ],
             [
              0.2222222222222222,
              "#7201a8"
             ],
             [
              0.3333333333333333,
              "#9c179e"
             ],
             [
              0.4444444444444444,
              "#bd3786"
             ],
             [
              0.5555555555555556,
              "#d8576b"
             ],
             [
              0.6666666666666666,
              "#ed7953"
             ],
             [
              0.7777777777777778,
              "#fb9f3a"
             ],
             [
              0.8888888888888888,
              "#fdca26"
             ],
             [
              1,
              "#f0f921"
             ]
            ],
            "type": "histogram2d"
           }
          ],
          "histogram2dcontour": [
           {
            "colorbar": {
             "outlinewidth": 0,
             "ticks": ""
            },
            "colorscale": [
             [
              0,
              "#0d0887"
             ],
             [
              0.1111111111111111,
              "#46039f"
             ],
             [
              0.2222222222222222,
              "#7201a8"
             ],
             [
              0.3333333333333333,
              "#9c179e"
             ],
             [
              0.4444444444444444,
              "#bd3786"
             ],
             [
              0.5555555555555556,
              "#d8576b"
             ],
             [
              0.6666666666666666,
              "#ed7953"
             ],
             [
              0.7777777777777778,
              "#fb9f3a"
             ],
             [
              0.8888888888888888,
              "#fdca26"
             ],
             [
              1,
              "#f0f921"
             ]
            ],
            "type": "histogram2dcontour"
           }
          ],
          "mesh3d": [
           {
            "colorbar": {
             "outlinewidth": 0,
             "ticks": ""
            },
            "type": "mesh3d"
           }
          ],
          "parcoords": [
           {
            "line": {
             "colorbar": {
              "outlinewidth": 0,
              "ticks": ""
             }
            },
            "type": "parcoords"
           }
          ],
          "pie": [
           {
            "automargin": true,
            "type": "pie"
           }
          ],
          "scatter": [
           {
            "fillpattern": {
             "fillmode": "overlay",
             "size": 10,
             "solidity": 0.2
            },
            "type": "scatter"
           }
          ],
          "scatter3d": [
           {
            "line": {
             "colorbar": {
              "outlinewidth": 0,
              "ticks": ""
             }
            },
            "marker": {
             "colorbar": {
              "outlinewidth": 0,
              "ticks": ""
             }
            },
            "type": "scatter3d"
           }
          ],
          "scattercarpet": [
           {
            "marker": {
             "colorbar": {
              "outlinewidth": 0,
              "ticks": ""
             }
            },
            "type": "scattercarpet"
           }
          ],
          "scattergeo": [
           {
            "marker": {
             "colorbar": {
              "outlinewidth": 0,
              "ticks": ""
             }
            },
            "type": "scattergeo"
           }
          ],
          "scattergl": [
           {
            "marker": {
             "colorbar": {
              "outlinewidth": 0,
              "ticks": ""
             }
            },
            "type": "scattergl"
           }
          ],
          "scattermapbox": [
           {
            "marker": {
             "colorbar": {
              "outlinewidth": 0,
              "ticks": ""
             }
            },
            "type": "scattermapbox"
           }
          ],
          "scatterpolar": [
           {
            "marker": {
             "colorbar": {
              "outlinewidth": 0,
              "ticks": ""
             }
            },
            "type": "scatterpolar"
           }
          ],
          "scatterpolargl": [
           {
            "marker": {
             "colorbar": {
              "outlinewidth": 0,
              "ticks": ""
             }
            },
            "type": "scatterpolargl"
           }
          ],
          "scatterternary": [
           {
            "marker": {
             "colorbar": {
              "outlinewidth": 0,
              "ticks": ""
             }
            },
            "type": "scatterternary"
           }
          ],
          "surface": [
           {
            "colorbar": {
             "outlinewidth": 0,
             "ticks": ""
            },
            "colorscale": [
             [
              0,
              "#0d0887"
             ],
             [
              0.1111111111111111,
              "#46039f"
             ],
             [
              0.2222222222222222,
              "#7201a8"
             ],
             [
              0.3333333333333333,
              "#9c179e"
             ],
             [
              0.4444444444444444,
              "#bd3786"
             ],
             [
              0.5555555555555556,
              "#d8576b"
             ],
             [
              0.6666666666666666,
              "#ed7953"
             ],
             [
              0.7777777777777778,
              "#fb9f3a"
             ],
             [
              0.8888888888888888,
              "#fdca26"
             ],
             [
              1,
              "#f0f921"
             ]
            ],
            "type": "surface"
           }
          ],
          "table": [
           {
            "cells": {
             "fill": {
              "color": "#EBF0F8"
             },
             "line": {
              "color": "white"
             }
            },
            "header": {
             "fill": {
              "color": "#C8D4E3"
             },
             "line": {
              "color": "white"
             }
            },
            "type": "table"
           }
          ]
         },
         "layout": {
          "annotationdefaults": {
           "arrowcolor": "#2a3f5f",
           "arrowhead": 0,
           "arrowwidth": 1
          },
          "autotypenumbers": "strict",
          "coloraxis": {
           "colorbar": {
            "outlinewidth": 0,
            "ticks": ""
           }
          },
          "colorscale": {
           "diverging": [
            [
             0,
             "#8e0152"
            ],
            [
             0.1,
             "#c51b7d"
            ],
            [
             0.2,
             "#de77ae"
            ],
            [
             0.3,
             "#f1b6da"
            ],
            [
             0.4,
             "#fde0ef"
            ],
            [
             0.5,
             "#f7f7f7"
            ],
            [
             0.6,
             "#e6f5d0"
            ],
            [
             0.7,
             "#b8e186"
            ],
            [
             0.8,
             "#7fbc41"
            ],
            [
             0.9,
             "#4d9221"
            ],
            [
             1,
             "#276419"
            ]
           ],
           "sequential": [
            [
             0,
             "#0d0887"
            ],
            [
             0.1111111111111111,
             "#46039f"
            ],
            [
             0.2222222222222222,
             "#7201a8"
            ],
            [
             0.3333333333333333,
             "#9c179e"
            ],
            [
             0.4444444444444444,
             "#bd3786"
            ],
            [
             0.5555555555555556,
             "#d8576b"
            ],
            [
             0.6666666666666666,
             "#ed7953"
            ],
            [
             0.7777777777777778,
             "#fb9f3a"
            ],
            [
             0.8888888888888888,
             "#fdca26"
            ],
            [
             1,
             "#f0f921"
            ]
           ],
           "sequentialminus": [
            [
             0,
             "#0d0887"
            ],
            [
             0.1111111111111111,
             "#46039f"
            ],
            [
             0.2222222222222222,
             "#7201a8"
            ],
            [
             0.3333333333333333,
             "#9c179e"
            ],
            [
             0.4444444444444444,
             "#bd3786"
            ],
            [
             0.5555555555555556,
             "#d8576b"
            ],
            [
             0.6666666666666666,
             "#ed7953"
            ],
            [
             0.7777777777777778,
             "#fb9f3a"
            ],
            [
             0.8888888888888888,
             "#fdca26"
            ],
            [
             1,
             "#f0f921"
            ]
           ]
          },
          "colorway": [
           "#636efa",
           "#EF553B",
           "#00cc96",
           "#ab63fa",
           "#FFA15A",
           "#19d3f3",
           "#FF6692",
           "#B6E880",
           "#FF97FF",
           "#FECB52"
          ],
          "font": {
           "color": "#2a3f5f"
          },
          "geo": {
           "bgcolor": "white",
           "lakecolor": "white",
           "landcolor": "#E5ECF6",
           "showlakes": true,
           "showland": true,
           "subunitcolor": "white"
          },
          "hoverlabel": {
           "align": "left"
          },
          "hovermode": "closest",
          "mapbox": {
           "style": "light"
          },
          "paper_bgcolor": "white",
          "plot_bgcolor": "#E5ECF6",
          "polar": {
           "angularaxis": {
            "gridcolor": "white",
            "linecolor": "white",
            "ticks": ""
           },
           "bgcolor": "#E5ECF6",
           "radialaxis": {
            "gridcolor": "white",
            "linecolor": "white",
            "ticks": ""
           }
          },
          "scene": {
           "xaxis": {
            "backgroundcolor": "#E5ECF6",
            "gridcolor": "white",
            "gridwidth": 2,
            "linecolor": "white",
            "showbackground": true,
            "ticks": "",
            "zerolinecolor": "white"
           },
           "yaxis": {
            "backgroundcolor": "#E5ECF6",
            "gridcolor": "white",
            "gridwidth": 2,
            "linecolor": "white",
            "showbackground": true,
            "ticks": "",
            "zerolinecolor": "white"
           },
           "zaxis": {
            "backgroundcolor": "#E5ECF6",
            "gridcolor": "white",
            "gridwidth": 2,
            "linecolor": "white",
            "showbackground": true,
            "ticks": "",
            "zerolinecolor": "white"
           }
          },
          "shapedefaults": {
           "line": {
            "color": "#2a3f5f"
           }
          },
          "ternary": {
           "aaxis": {
            "gridcolor": "white",
            "linecolor": "white",
            "ticks": ""
           },
           "baxis": {
            "gridcolor": "white",
            "linecolor": "white",
            "ticks": ""
           },
           "bgcolor": "#E5ECF6",
           "caxis": {
            "gridcolor": "white",
            "linecolor": "white",
            "ticks": ""
           }
          },
          "title": {
           "x": 0.05
          },
          "xaxis": {
           "automargin": true,
           "gridcolor": "white",
           "linecolor": "white",
           "ticks": "",
           "title": {
            "standoff": 15
           },
           "zerolinecolor": "white",
           "zerolinewidth": 2
          },
          "yaxis": {
           "automargin": true,
           "gridcolor": "white",
           "linecolor": "white",
           "ticks": "",
           "title": {
            "standoff": 15
           },
           "zerolinecolor": "white",
           "zerolinewidth": 2
          }
         }
        },
        "xaxis": {
         "anchor": "y",
         "domain": [
          0,
          1
         ],
         "title": {
          "text": "index"
         }
        },
        "yaxis": {
         "anchor": "x",
         "domain": [
          0,
          1
         ],
         "title": {
          "text": "value"
         }
        }
       }
      }
     },
     "metadata": {},
     "output_type": "display_data"
    }
   ],
   "source": [
    "fig2D = px.line(\n",
    "        temp_vec, \n",
    "        # x=\"Time [s]\", y=\"Temperature [Degrees Celcius]\",\n",
    "    )\n",
    "fig2D.show()"
   ]
  }
 ],
 "metadata": {
  "kernelspec": {
   "display_name": "Python 3",
   "language": "python",
   "name": "python3"
  },
  "language_info": {
   "codemirror_mode": {
    "name": "ipython",
    "version": 3
   },
   "file_extension": ".py",
   "mimetype": "text/x-python",
   "name": "python",
   "nbconvert_exporter": "python",
   "pygments_lexer": "ipython3",
   "version": "3.11.4"
  }
 },
 "nbformat": 4,
 "nbformat_minor": 2
}
